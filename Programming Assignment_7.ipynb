{
 "cells": [
  {
   "cell_type": "markdown",
   "id": "59f002b2",
   "metadata": {},
   "source": [
    "###### Write a Python Program to find sum of array?\n",
    "###### Write a Python Program to find largest element in an array?\n",
    "###### Write a Python Program for array rotation?\n",
    "###### Write a Python Program to Split the array and add the first part to the end?\n",
    "###### Write a Python Program to check if given array is Monotonic?"
   ]
  },
  {
   "cell_type": "code",
   "execution_count": 33,
   "id": "3e68c8db",
   "metadata": {},
   "outputs": [],
   "source": [
    "import numpy as np"
   ]
  },
  {
   "cell_type": "code",
   "execution_count": 34,
   "id": "c9c47eba",
   "metadata": {},
   "outputs": [],
   "source": [
    "arr = np.array([1,2,3,4,5,6])\n"
   ]
  },
  {
   "cell_type": "code",
   "execution_count": 37,
   "id": "bfdaeb97",
   "metadata": {},
   "outputs": [
    {
     "name": "stdout",
     "output_type": "stream",
     "text": [
      "21\n"
     ]
    }
   ],
   "source": [
    "print(sum(arr))"
   ]
  },
  {
   "cell_type": "code",
   "execution_count": 36,
   "id": "9323b0e2",
   "metadata": {},
   "outputs": [
    {
     "name": "stdout",
     "output_type": "stream",
     "text": [
      "6\n"
     ]
    }
   ],
   "source": [
    "print(max(arr))"
   ]
  },
  {
   "cell_type": "code",
   "execution_count": 30,
   "id": "0286e535",
   "metadata": {},
   "outputs": [],
   "source": [
    "def rotate(arr):\n",
    "    return(np.rot90(arr))"
   ]
  },
  {
   "cell_type": "code",
   "execution_count": 32,
   "id": "501639a8",
   "metadata": {},
   "outputs": [
    {
     "data": {
      "text/plain": [
       "array([[5, 6],\n",
       "       [4, 5],\n",
       "       [3, 4],\n",
       "       [2, 3],\n",
       "       [1, 2]])"
      ]
     },
     "execution_count": 32,
     "metadata": {},
     "output_type": "execute_result"
    }
   ],
   "source": [
    "rotate(np.array([[1, 2, 3, 4, 5],[2,3,4,5,6]]))"
   ]
  },
  {
   "cell_type": "code",
   "execution_count": 39,
   "id": "a6537ba0",
   "metadata": {},
   "outputs": [],
   "source": [
    "def split(arr,d):\n",
    "    split_array = np.array_split(arr,d)\n",
    "    return(np.flip(split_array))"
   ]
  },
  {
   "cell_type": "code",
   "execution_count": 42,
   "id": "5676e989",
   "metadata": {},
   "outputs": [
    {
     "data": {
      "text/plain": [
       "array([[4, 7, 6, 5],\n",
       "       [4, 3, 2, 1]])"
      ]
     },
     "execution_count": 42,
     "metadata": {},
     "output_type": "execute_result"
    }
   ],
   "source": [
    "split([1,2,3,4,5,6,7,4],2)"
   ]
  },
  {
   "cell_type": "code",
   "execution_count": 7,
   "id": "f7855cac",
   "metadata": {},
   "outputs": [],
   "source": [
    "def isMonotonic(A):\n",
    "    x, y = [], []\n",
    "    x.extend(A)\n",
    "    y.extend(A)\n",
    "    x.sort()\n",
    "    y.sort(reverse=True)\n",
    "    #print(x,y)\n",
    "    if(x == A or y == A):\n",
    "        return True\n",
    "    return False\n",
    " "
   ]
  },
  {
   "cell_type": "code",
   "execution_count": 8,
   "id": "5a8cb85b",
   "metadata": {},
   "outputs": [
    {
     "name": "stdout",
     "output_type": "stream",
     "text": [
      "True\n"
     ]
    }
   ],
   "source": [
    "# Driver program\n",
    "A = [6, 5, 4, 4]\n",
    " \n",
    "# Print required result\n",
    "print(isMonotonic(A))"
   ]
  },
  {
   "cell_type": "code",
   "execution_count": null,
   "id": "53889288",
   "metadata": {},
   "outputs": [],
   "source": []
  }
 ],
 "metadata": {
  "kernelspec": {
   "display_name": "Python 3 (ipykernel)",
   "language": "python",
   "name": "python3"
  },
  "language_info": {
   "codemirror_mode": {
    "name": "ipython",
    "version": 3
   },
   "file_extension": ".py",
   "mimetype": "text/x-python",
   "name": "python",
   "nbconvert_exporter": "python",
   "pygments_lexer": "ipython3",
   "version": "3.9.12"
  }
 },
 "nbformat": 4,
 "nbformat_minor": 5
}

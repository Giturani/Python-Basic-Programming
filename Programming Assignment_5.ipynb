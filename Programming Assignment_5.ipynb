{
 "cells": [
  {
   "cell_type": "raw",
   "id": "dba63229",
   "metadata": {},
   "source": [
    "Write a Python Program to Find LCM?\n",
    "Write a Python Program to Find HCF?\n",
    "Write a Python Program to Convert Decimal to Binary, Octal and Hexadecimal?\n",
    "Write a Python Program To Find ASCII value of a character?\n",
    "Write a Python Program to Make a Simple Calculator with 4 basic mathematical operations?"
   ]
  },
  {
   "cell_type": "raw",
   "id": "62c18f64",
   "metadata": {},
   "source": [
    "Write a Python Program to Find HCF?"
   ]
  },
  {
   "cell_type": "code",
   "execution_count": 1,
   "id": "e40a356f",
   "metadata": {},
   "outputs": [],
   "source": [
    "def gcd1(a , b):\n",
    "    while (a > 0 and b > 0):\n",
    "        if a > b:\n",
    "            a = a % b\n",
    "        else :\n",
    "            b = b % a\n",
    "            \n",
    "    if a != 0:\n",
    "        return a\n",
    "    return b"
   ]
  },
  {
   "cell_type": "code",
   "execution_count": 2,
   "id": "c1dc3c76",
   "metadata": {},
   "outputs": [
    {
     "data": {
      "text/plain": [
       "14"
      ]
     },
     "execution_count": 2,
     "metadata": {},
     "output_type": "execute_result"
    }
   ],
   "source": [
    "gcd1(98,56)"
   ]
  },
  {
   "cell_type": "code",
   "execution_count": 3,
   "id": "d2f43f7e",
   "metadata": {},
   "outputs": [],
   "source": [
    "def lcm1(a,b):\n",
    "    result = (a*b)/gcd1(a,b)\n",
    "    return result"
   ]
  },
  {
   "cell_type": "code",
   "execution_count": 4,
   "id": "ea6c2e56",
   "metadata": {},
   "outputs": [
    {
     "data": {
      "text/plain": [
       "60.0"
      ]
     },
     "execution_count": 4,
     "metadata": {},
     "output_type": "execute_result"
    }
   ],
   "source": [
    "lcm1(15,20)"
   ]
  },
  {
   "cell_type": "code",
   "execution_count": 5,
   "id": "84ab4b46",
   "metadata": {},
   "outputs": [],
   "source": [
    "def bin1(n):\n",
    "    str1 = ''\n",
    "    while n!=0:\n",
    "        str1 = str1 + str(n%2)\n",
    "        n = int(n / 2 )   \n",
    "    return str1[::-1]"
   ]
  },
  {
   "cell_type": "code",
   "execution_count": 6,
   "id": "53a42e72",
   "metadata": {},
   "outputs": [
    {
     "data": {
      "text/plain": [
       "'10011'"
      ]
     },
     "execution_count": 6,
     "metadata": {},
     "output_type": "execute_result"
    }
   ],
   "source": [
    "bin1(19)"
   ]
  },
  {
   "cell_type": "code",
   "execution_count": 7,
   "id": "0e51db73",
   "metadata": {},
   "outputs": [],
   "source": [
    "def octa1(n):\n",
    "    str1 = ''\n",
    "    while n!=0:\n",
    "        str1 = str1 + str(n%8)\n",
    "        n = int(n / 8 )   \n",
    "    return str1[::-1]"
   ]
  },
  {
   "cell_type": "code",
   "execution_count": 8,
   "id": "5e75d43c",
   "metadata": {},
   "outputs": [
    {
     "data": {
      "text/plain": [
       "'21'"
      ]
     },
     "execution_count": 8,
     "metadata": {},
     "output_type": "execute_result"
    }
   ],
   "source": [
    "octa1(17)"
   ]
  },
  {
   "cell_type": "code",
   "execution_count": 9,
   "id": "ef281963",
   "metadata": {},
   "outputs": [],
   "source": [
    "conversion_table = {0: '0', 1: '1', 2: '2', 3: '3', 4: '4',\n",
    "                    5: '5', 6: '6', 7: '7',\n",
    "                    8: '8', 9: '9', 10: 'A', 11: 'B', 12: 'C',\n",
    "                    13: 'D', 14: 'E', 15: 'F'}\n",
    "def Hexa1(decimal):\n",
    "    hexadecimal = ''\n",
    "    while(decimal > 0):\n",
    "        remainder = decimal % 16\n",
    "        hexadecimal = conversion_table[remainder] + hexadecimal\n",
    "        decimal = decimal // 16\n",
    " \n",
    "    return hexadecimal"
   ]
  },
  {
   "cell_type": "code",
   "execution_count": 10,
   "id": "87d577f4",
   "metadata": {},
   "outputs": [
    {
     "data": {
      "text/plain": [
       "'10'"
      ]
     },
     "execution_count": 10,
     "metadata": {},
     "output_type": "execute_result"
    }
   ],
   "source": [
    "Hexa1(16)"
   ]
  },
  {
   "cell_type": "code",
   "execution_count": 12,
   "id": "38ee909a",
   "metadata": {},
   "outputs": [],
   "source": [
    "def findacii(c):\n",
    "    return ord(c)"
   ]
  },
  {
   "cell_type": "code",
   "execution_count": 13,
   "id": "cdab0215",
   "metadata": {},
   "outputs": [
    {
     "data": {
      "text/plain": [
       "104"
      ]
     },
     "execution_count": 13,
     "metadata": {},
     "output_type": "execute_result"
    }
   ],
   "source": [
    "findacii('h')"
   ]
  },
  {
   "cell_type": "code",
   "execution_count": 15,
   "id": "d25b9bbb",
   "metadata": {},
   "outputs": [
    {
     "name": "stdout",
     "output_type": "stream",
     "text": [
      "Please select operation -\n",
      "1. Add\n",
      "2. Subtract\n",
      "3. Multiply\n",
      "4. Divide\n",
      "\n",
      "Select operations form 1, 2, 3, 4 :3\n",
      "Enter first number: 25\n",
      "Enter second number: 4\n",
      "25 * 4 = 100\n"
     ]
    }
   ],
   "source": [
    "def add(a,b):\n",
    "    return (a+b)\n",
    "def sub(a,b):\n",
    "    return (a-b)\n",
    "def mul(a,b):\n",
    "    return(a*b)\n",
    "def div(a,b):\n",
    "    return (a/b)\n",
    "\n",
    "print(\"Please select operation -\\n\" \\\n",
    "        \"1. Add\\n\" \\\n",
    "        \"2. Subtract\\n\" \\\n",
    "        \"3. Multiply\\n\" \\\n",
    "        \"4. Divide\\n\")\n",
    " \n",
    " \n",
    "# Take input from the user\n",
    "select = int(input(\"Select operations form 1, 2, 3, 4 :\"))\n",
    " \n",
    "number_1 = int(input(\"Enter first number: \"))\n",
    "number_2 = int(input(\"Enter second number: \"))\n",
    " \n",
    "if select == 1:\n",
    "    print(number_1, \"+\", number_2, \"=\",\n",
    "                    add(number_1, number_2))\n",
    " \n",
    "elif select == 2:\n",
    "    print(number_1, \"-\", number_2, \"=\",\n",
    "                    sub(number_1, number_2))\n",
    " \n",
    "elif select == 3:\n",
    "    print(number_1, \"*\", number_2, \"=\",\n",
    "                    mul(number_1, number_2))\n",
    " \n",
    "elif select == 4:\n",
    "    print(number_1, \"/\", number_2, \"=\",\n",
    "                    div(number_1, number_2))\n",
    "else:\n",
    "    print(\"Invalid input\")\n"
   ]
  },
  {
   "cell_type": "code",
   "execution_count": null,
   "id": "987a8716",
   "metadata": {},
   "outputs": [],
   "source": []
  }
 ],
 "metadata": {
  "kernelspec": {
   "display_name": "Python 3 (ipykernel)",
   "language": "python",
   "name": "python3"
  },
  "language_info": {
   "codemirror_mode": {
    "name": "ipython",
    "version": 3
   },
   "file_extension": ".py",
   "mimetype": "text/x-python",
   "name": "python",
   "nbconvert_exporter": "python",
   "pygments_lexer": "ipython3",
   "version": "3.9.12"
  }
 },
 "nbformat": 4,
 "nbformat_minor": 5
}

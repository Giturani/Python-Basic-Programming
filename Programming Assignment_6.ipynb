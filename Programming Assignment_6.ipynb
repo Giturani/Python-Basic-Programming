{
 "cells": [
  {
   "cell_type": "raw",
   "id": "7fa45567",
   "metadata": {},
   "source": [
    "Write a Python Program to Display Fibonacci Sequence Using Recursion?\n",
    "Write a Python Program to Find Factorial of Number Using Recursion?\n",
    "Write a Python Program to calculate your Body Mass Index?\n",
    "Write a Python Program to calculate the natural logarithm of any number?\n",
    "Write a Python Program for cube sum of first n natural numbers?"
   ]
  },
  {
   "cell_type": "code",
   "execution_count": 1,
   "id": "3af18ccf",
   "metadata": {},
   "outputs": [],
   "source": [
    "def fib(num):\n",
    "            if num<0:\n",
    "                print(\"Invalid input\")\n",
    "            elif num<=1:\n",
    "                return num\n",
    "            else :\n",
    "                return (fib(num-1) + fib(num-2))\n",
    "           \n",
    "def series(n):\n",
    "    lis = []\n",
    "    for i in range(n):\n",
    "        lis.append(fib(i))\n",
    "    return lis"
   ]
  },
  {
   "cell_type": "code",
   "execution_count": 2,
   "id": "9b8f7b16",
   "metadata": {},
   "outputs": [
    {
     "data": {
      "text/plain": [
       "[0, 1, 1, 2, 3, 5, 8, 13, 21, 34]"
      ]
     },
     "execution_count": 2,
     "metadata": {},
     "output_type": "execute_result"
    }
   ],
   "source": [
    "series(10)"
   ]
  },
  {
   "cell_type": "code",
   "execution_count": 3,
   "id": "69fa56a6",
   "metadata": {},
   "outputs": [],
   "source": [
    "def fact(n):\n",
    "    if n==0 :\n",
    "        return 1\n",
    "    else :\n",
    "        return n * fact(n-1)"
   ]
  },
  {
   "cell_type": "code",
   "execution_count": 4,
   "id": "c92215ae",
   "metadata": {},
   "outputs": [
    {
     "data": {
      "text/plain": [
       "6"
      ]
     },
     "execution_count": 4,
     "metadata": {},
     "output_type": "execute_result"
    }
   ],
   "source": [
    "fact(3)"
   ]
  },
  {
   "cell_type": "code",
   "execution_count": 5,
   "id": "ba092852",
   "metadata": {},
   "outputs": [],
   "source": [
    "def BMI(weight,height):\n",
    "    return (weight/(height**2))"
   ]
  },
  {
   "cell_type": "code",
   "execution_count": 6,
   "id": "91941991",
   "metadata": {},
   "outputs": [
    {
     "data": {
      "text/plain": [
       "30.08382909680909"
      ]
     },
     "execution_count": 6,
     "metadata": {},
     "output_type": "execute_result"
    }
   ],
   "source": [
    "BMI(89,1.72)"
   ]
  },
  {
   "cell_type": "code",
   "execution_count": 7,
   "id": "fcc234c0",
   "metadata": {},
   "outputs": [
    {
     "name": "stdout",
     "output_type": "stream",
     "text": [
      "enter a natural number4\n",
      "1.3862943611198906\n"
     ]
    }
   ],
   "source": [
    "import math\n",
    "n = input(\"enter a natural number\")\n",
    "print(math.log(int(n)))"
   ]
  },
  {
   "cell_type": "code",
   "execution_count": 8,
   "id": "e46c0d2f",
   "metadata": {},
   "outputs": [],
   "source": [
    "def cubsum(n):\n",
    "        if n == 0:\n",
    "            return 0\n",
    "        elif n == 1:\n",
    "            return 1\n",
    "        else:\n",
    "            return ((n**3) + cubsum(n-1))"
   ]
  },
  {
   "cell_type": "code",
   "execution_count": 9,
   "id": "494de0cf",
   "metadata": {},
   "outputs": [
    {
     "data": {
      "text/plain": [
       "784"
      ]
     },
     "execution_count": 9,
     "metadata": {},
     "output_type": "execute_result"
    }
   ],
   "source": [
    "cubsum(7)"
   ]
  },
  {
   "cell_type": "code",
   "execution_count": null,
   "id": "9cf1d82a",
   "metadata": {},
   "outputs": [],
   "source": []
  }
 ],
 "metadata": {
  "kernelspec": {
   "display_name": "Python 3 (ipykernel)",
   "language": "python",
   "name": "python3"
  },
  "language_info": {
   "codemirror_mode": {
    "name": "ipython",
    "version": 3
   },
   "file_extension": ".py",
   "mimetype": "text/x-python",
   "name": "python",
   "nbconvert_exporter": "python",
   "pygments_lexer": "ipython3",
   "version": "3.9.12"
  }
 },
 "nbformat": 4,
 "nbformat_minor": 5
}

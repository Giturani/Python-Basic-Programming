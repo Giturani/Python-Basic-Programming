{
 "cells": [
  {
   "cell_type": "raw",
   "id": "48443c1e",
   "metadata": {},
   "source": [
    "1. Write a Python program to convert kilometers to miles?\n",
    "2. Write a Python program to convert Celsius to Fahrenheit?\n",
    "3. Write a Python program to display calendar?\n",
    "4. Write a Python program to solve quadratic equation?\n",
    "5. Write a Python program to swap two variables without temp variable?"
   ]
  },
  {
   "cell_type": "code",
   "execution_count": 16,
   "id": "10708e2b",
   "metadata": {},
   "outputs": [
    {
     "name": "stdout",
     "output_type": "stream",
     "text": [
      "62.137100000000004 mile\n"
     ]
    }
   ],
   "source": [
    "a = 100\n",
    "print(a*0.621371,\"mile\")"
   ]
  },
  {
   "cell_type": "code",
   "execution_count": 17,
   "id": "2ae93b22",
   "metadata": {},
   "outputs": [
    {
     "name": "stdout",
     "output_type": "stream",
     "text": [
      "Enter Temp in celsius 34\n",
      "Temp in Fahrenheit  93.2 F\n"
     ]
    }
   ],
   "source": [
    "C = float(input(\"Enter Temp in celsius \"))\n",
    "F = (C *(9/5)) + 32\n",
    "print(\"Temp in Fahrenheit \",F,\"F\")"
   ]
  },
  {
   "cell_type": "code",
   "execution_count": 8,
   "id": "b7c69717",
   "metadata": {},
   "outputs": [
    {
     "name": "stdout",
     "output_type": "stream",
     "text": [
      "Enter Year 2016\n",
      "Enter Month 10\n",
      "    October 2016\n",
      "Mo Tu We Th Fr Sa Su\n",
      "                1  2\n",
      " 3  4  5  6  7  8  9\n",
      "10 11 12 13 14 15 16\n",
      "17 18 19 20 21 22 23\n",
      "24 25 26 27 28 29 30\n",
      "31\n",
      "\n"
     ]
    }
   ],
   "source": [
    "import calendar\n",
    "yy = int(input(\"Enter Year \"))\n",
    "mm = int(input(\"Enter Month \"))\n",
    "print(calendar.month(yy,mm))"
   ]
  },
  {
   "cell_type": "code",
   "execution_count": 12,
   "id": "45f763d6",
   "metadata": {},
   "outputs": [
    {
     "name": "stdout",
     "output_type": "stream",
     "text": [
      "1\n",
      "5\n",
      "6\n",
      "The solutions are {0} and {1} (-2+0j) (-3+0j)\n"
     ]
    }
   ],
   "source": [
    "import cmath\n",
    "a = float(input())\n",
    "b = float(input())\n",
    "c = float(input())\n",
    "d = cmath.sqrt((b**2)-(4*a*c))\n",
    "sol1 = (-b + d)/(2*a)\n",
    "sol2 = (-b - d)/(2*a)\n",
    "print(\"The solutions are {0} and {1}\",sol1,sol2)"
   ]
  },
  {
   "cell_type": "code",
   "execution_count": 15,
   "id": "7a764430",
   "metadata": {},
   "outputs": [
    {
     "name": "stdout",
     "output_type": "stream",
     "text": [
      "a = 23\n",
      "b = 34\n",
      "a =  34\n",
      "b =  23\n"
     ]
    }
   ],
   "source": [
    "a = int(input(\"a = \"))\n",
    "b = int(input(\"b = \"))\n",
    "a = a + b\n",
    "b = a - b\n",
    "a = a - b\n",
    "print(\"a = \",a)\n",
    "print(\"b = \",b)"
   ]
  },
  {
   "cell_type": "code",
   "execution_count": null,
   "id": "9febe567",
   "metadata": {},
   "outputs": [],
   "source": []
  }
 ],
 "metadata": {
  "kernelspec": {
   "display_name": "Python 3 (ipykernel)",
   "language": "python",
   "name": "python3"
  },
  "language_info": {
   "codemirror_mode": {
    "name": "ipython",
    "version": 3
   },
   "file_extension": ".py",
   "mimetype": "text/x-python",
   "name": "python",
   "nbconvert_exporter": "python",
   "pygments_lexer": "ipython3",
   "version": "3.9.12"
  }
 },
 "nbformat": 4,
 "nbformat_minor": 5
}

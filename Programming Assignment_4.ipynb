{
 "cells": [
  {
   "cell_type": "raw",
   "id": "3ef4e25f",
   "metadata": {},
   "source": [
    "1. Write a Python Program to Find the Factorial of a Number?\n",
    "2. Write a Python Program to Display the multiplication Table?\n",
    "3. Write a Python Program to Print the Fibonacci sequence?\n",
    "4. Write a Python Program to Check Armstrong Number?\n",
    "5. Write a Python Program to Find Armstrong Number in an Interval?\n",
    "6. Write a Python Program to Find the Sum of Natural Numbers?"
   ]
  },
  {
   "cell_type": "code",
   "execution_count": 1,
   "id": "44debaa5",
   "metadata": {},
   "outputs": [],
   "source": [
    "def fact1(n):\n",
    "    fact = 1\n",
    "    while n!=1:\n",
    "        fact = fact*n\n",
    "        n = n -1\n",
    "    return fact"
   ]
  },
  {
   "cell_type": "code",
   "execution_count": 2,
   "id": "c59db1d9",
   "metadata": {},
   "outputs": [
    {
     "data": {
      "text/plain": [
       "39916800"
      ]
     },
     "execution_count": 2,
     "metadata": {},
     "output_type": "execute_result"
    }
   ],
   "source": [
    "fact1(11)"
   ]
  },
  {
   "cell_type": "code",
   "execution_count": 3,
   "id": "b353ddde",
   "metadata": {},
   "outputs": [],
   "source": [
    "def multab(n):\n",
    "    if n == 0:\n",
    "        return 0\n",
    "    else:\n",
    "        i = 1\n",
    "        list1 = []\n",
    "        while i!=11:\n",
    "            list1.append(n*i)\n",
    "            i = i + 1\n",
    "        return list1"
   ]
  },
  {
   "cell_type": "code",
   "execution_count": 4,
   "id": "142d4fcd",
   "metadata": {},
   "outputs": [
    {
     "data": {
      "text/plain": [
       "0"
      ]
     },
     "execution_count": 4,
     "metadata": {},
     "output_type": "execute_result"
    }
   ],
   "source": [
    "multab(0)"
   ]
  },
  {
   "cell_type": "code",
   "execution_count": 5,
   "id": "9c1fa461",
   "metadata": {},
   "outputs": [],
   "source": [
    "def fibo(n):\n",
    "    num1 = 0\n",
    "    num2 = 1\n",
    "    num3 = 0\n",
    "    list1 = []\n",
    "    list1.append(num1)\n",
    "    list1.append(num2)\n",
    "    while n-2!=0:\n",
    "        num3 = num1 + num2\n",
    "        list1.append(num3)\n",
    "        num1 = num2\n",
    "        num2 = num3\n",
    "        n = n-1\n",
    "    return list1"
   ]
  },
  {
   "cell_type": "code",
   "execution_count": 6,
   "id": "2d14b5d4",
   "metadata": {},
   "outputs": [
    {
     "data": {
      "text/plain": [
       "[0, 1, 1, 2, 3, 5, 8, 13, 21, 34]"
      ]
     },
     "execution_count": 6,
     "metadata": {},
     "output_type": "execute_result"
    }
   ],
   "source": [
    "fibo(10)"
   ]
  },
  {
   "cell_type": "code",
   "execution_count": 7,
   "id": "37c4d9d7",
   "metadata": {},
   "outputs": [],
   "source": [
    "def Armstrong(n):\n",
    "    \n",
    "    order = len(str(n))\n",
    "    \n",
    "    sum1 = 0\n",
    "    \n",
    "    temp = n\n",
    "    while n!=0:\n",
    "        sum1 = sum1 + (int(n%10))**order\n",
    "        n = int(n/10)\n",
    "        \n",
    "    if temp == sum1:\n",
    "        return \"Number is Armstrong\"\n",
    "    else:\n",
    "        return \"Number is not Armstrong\""
   ]
  },
  {
   "cell_type": "code",
   "execution_count": 8,
   "id": "31b57170",
   "metadata": {},
   "outputs": [
    {
     "data": {
      "text/plain": [
       "'Number is Armstrong'"
      ]
     },
     "execution_count": 8,
     "metadata": {},
     "output_type": "execute_result"
    }
   ],
   "source": [
    "Armstrong(371)"
   ]
  },
  {
   "cell_type": "code",
   "execution_count": 9,
   "id": "6dacb146",
   "metadata": {},
   "outputs": [],
   "source": [
    "def Armstrong_interval(x, y):\n",
    "    \n",
    "    for n in range(x,y+1):\n",
    "        \n",
    "        order = len(str(n))\n",
    "\n",
    "        sum1 = 0\n",
    "\n",
    "        temp = n\n",
    "        while n!=0:\n",
    "            sum1 = sum1 + (int(n%10))**order\n",
    "            n = int(n/10)\n",
    "\n",
    "        if temp == sum1:\n",
    "            print(temp)"
   ]
  },
  {
   "cell_type": "code",
   "execution_count": 10,
   "id": "6e887b46",
   "metadata": {},
   "outputs": [
    {
     "name": "stdout",
     "output_type": "stream",
     "text": [
      "1\n",
      "2\n",
      "3\n",
      "4\n",
      "5\n",
      "6\n",
      "7\n",
      "8\n",
      "9\n",
      "153\n",
      "370\n",
      "371\n",
      "407\n",
      "1634\n"
     ]
    }
   ],
   "source": [
    "Armstrong_interval(1,2000)"
   ]
  },
  {
   "cell_type": "code",
   "execution_count": 11,
   "id": "ca1e686d",
   "metadata": {},
   "outputs": [],
   "source": [
    "def N_sum(n):\n",
    "    sum = 0\n",
    "    while n!=0:\n",
    "        sum = sum + n\n",
    "        n = n -1\n",
    "    return sum"
   ]
  },
  {
   "cell_type": "code",
   "execution_count": 12,
   "id": "ac998c78",
   "metadata": {},
   "outputs": [
    {
     "data": {
      "text/plain": [
       "55"
      ]
     },
     "execution_count": 12,
     "metadata": {},
     "output_type": "execute_result"
    }
   ],
   "source": [
    "N_sum(10)"
   ]
  },
  {
   "cell_type": "code",
   "execution_count": null,
   "id": "efd46422",
   "metadata": {},
   "outputs": [],
   "source": []
  }
 ],
 "metadata": {
  "kernelspec": {
   "display_name": "Python 3 (ipykernel)",
   "language": "python",
   "name": "python3"
  },
  "language_info": {
   "codemirror_mode": {
    "name": "ipython",
    "version": 3
   },
   "file_extension": ".py",
   "mimetype": "text/x-python",
   "name": "python",
   "nbconvert_exporter": "python",
   "pygments_lexer": "ipython3",
   "version": "3.9.12"
  }
 },
 "nbformat": 4,
 "nbformat_minor": 5
}
